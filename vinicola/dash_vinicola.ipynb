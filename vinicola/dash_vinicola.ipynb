{
 "cells": [
  {
   "cell_type": "markdown",
   "metadata": {},
   "source": [
    "# Visualização de Dados [Vinho e Derivados]\n",
    "\n",
    "O objetivo é visualizar:\n",
    "\n",
    "- O montante de venda de exportação nos últimos 15 anos, separando a análise por países e trazendo quais as prospecções futuras e possíveis ações para uma melhoria nas exportações.\n",
    "- Gráficos atraentes e que passem a ideia central de projeção do futuro."
   ]
  },
  {
   "cell_type": "code",
   "execution_count": null,
   "metadata": {},
   "outputs": [],
   "source": [
    "pip install plotly"
   ]
  },
  {
   "cell_type": "code",
   "execution_count": null,
   "metadata": {},
   "outputs": [],
   "source": [
    "pip install dash"
   ]
  },
  {
   "cell_type": "code",
   "execution_count": null,
   "metadata": {},
   "outputs": [],
   "source": [
    "from exploratory_visualization import comercializacao, exportacao, importacao_vinhos, importacao_espumantes, producao_vinhos\n",
    "import dash\n",
    "import dash_core_components as dcc\n",
    "import dash_html_components as html\n",
    "import pandas as pd\n",
    "import plotly.express as px"
   ]
  },
  {
   "cell_type": "code",
   "execution_count": null,
   "metadata": {},
   "outputs": [],
   "source": [
    "df_comercio = comercializacao()\n",
    "# Anos em destaque em comercialização por produto e quantidade de litros.\n",
    "df_comercio = df_comercio.where(df_comercio[\"PRODUTO\"] > 1).groupby([\"ANO\", \"QTD_LITRO\"])\n",
    "# .size().reset_index(name=\"count\")"
   ]
  },
  {
   "cell_type": "code",
   "execution_count": null,
   "metadata": {},
   "outputs": [],
   "source": [
    "df_exportacao = exportacao()\n",
    "# países que mais realizam compras (exportaçao) e quantidade de receita \n",
    "df_exportacao = df_exportacao.where(df_exportacao[\"País\"] > 1).groupby([\"ANO\", \"VALOR_US\"])[\"VALOR_US\"].sum().reset_index()\n",
    "# .size().reset_index(name=\"count\")"
   ]
  },
  {
   "cell_type": "code",
   "execution_count": null,
   "metadata": {},
   "outputs": [],
   "source": [
    "df_importacao_vinhos = importacao_vinhos()\n",
    "# entendendo a quantidade e valores por país, ao realizar a importaçao de vinhos"
   ]
  },
  {
   "cell_type": "code",
   "execution_count": null,
   "metadata": {},
   "outputs": [],
   "source": [
    "importacao_espumantes()\n",
    "# entendendo a quantidade e valores por país, ao realizar a importaçao de espumantes"
   ]
  },
  {
   "cell_type": "code",
   "execution_count": null,
   "metadata": {},
   "outputs": [],
   "source": [
    "producao_vinhos()\n",
    "# entendendo qual produto foi mais produzido por litro de acordo com o ano"
   ]
  },
  {
   "cell_type": "code",
   "execution_count": null,
   "metadata": {},
   "outputs": [],
   "source": [
    "# Criar gráfico de barras com Plotly Express\n",
    "fig = px.bar(df_comercio, x='Categoria', y='Valor')\n",
    "\n",
    "# Inicializar a aplicação Dash\n",
    "app = dash.Dash(__name__)\n",
    "\n",
    "# Definir o layout da página\n",
    "app.layout = html.Div([\n",
    "    # Título da página\n",
    "    html.H1('Tech Challenge'),\n",
    "\n",
    "    # Elemento Markdown\n",
    "    dcc.Markdown('''\n",
    "    # Vitivinicultura, Embrapa Uva e Vinho.\n",
    "\n",
    "    Uma empresa desde 1970, que entrega qualidade no produto para clientes no mundo todo, sendo presente em 65 países.\n",
    "    Invista agora no nosso negócio. Ainda tem dúvidas? Em 5 minutos com as informações abaixo e necessárias, vai te fazer pensar em fazer parte o quanto antes.\n",
    "\n",
    "    ---\n",
    "\n",
    "    ## Segurança nas Ações\n",
    "    **Nos ultimos 15 anos, mesmo em crises, sempre nos mantivemos e continuamos referência no mercado de vinhos e espumantes. \n",
    "    Se busca sofisticação, tempo de mercado, uma empresa presente nos principais países, e com entrega de qualidade, você está no lugar certo** \n",
    "\n",
    "    \n",
    "    '''),\n",
    "\n",
    "    # Gráfico de barras\n",
    "    dcc.Graph(figure=fig)\n",
    "])\n",
    "\n",
    "# Executar a aplicação\n",
    "if __name__ == '__main__':\n",
    "    app.run_server(debug=True)\n"
   ]
  }
 ],
 "metadata": {
  "kernelspec": {
   "display_name": "Python 3.11.1 64-bit",
   "language": "python",
   "name": "python3"
  },
  "language_info": {
   "codemirror_mode": {
    "name": "ipython",
    "version": 3
   },
   "file_extension": ".py",
   "mimetype": "text/x-python",
   "name": "python",
   "nbconvert_exporter": "python",
   "pygments_lexer": "ipython3",
   "version": "3.11.1"
  },
  "orig_nbformat": 4,
  "vscode": {
   "interpreter": {
    "hash": "5c7b89af1651d0b8571dde13640ecdccf7d5a6204171d6ab33e7c296e100e08a"
   }
  }
 },
 "nbformat": 4,
 "nbformat_minor": 2
}
