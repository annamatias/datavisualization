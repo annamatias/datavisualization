{
 "cells": [
  {
   "cell_type": "markdown",
   "metadata": {},
   "source": [
    "# Visualização de Dados [Vinho e Derivados]\n",
    "\n",
    "O objetivo é visualizar:\n",
    "\n",
    "- O montante de venda de exportação nos últimos 15 anos, separando a análise por países e trazendo quais as prospecções futuras e possíveis ações para uma melhoria nas exportações.\n",
    "- Gráficos atraentes e que passem a ideia central de projeção do futuro."
   ]
  },
  {
   "cell_type": "code",
   "execution_count": 1,
   "metadata": {},
   "outputs": [
    {
     "name": "stdout",
     "output_type": "stream",
     "text": [
      "Requirement already satisfied: pip in /opt/homebrew/lib/python3.11/site-packages (23.1.2)\n",
      "Note: you may need to restart the kernel to use updated packages.\n"
     ]
    }
   ],
   "source": [
    "pip install --upgrade pip"
   ]
  },
  {
   "cell_type": "code",
   "execution_count": 2,
   "metadata": {},
   "outputs": [
    {
     "name": "stdout",
     "output_type": "stream",
     "text": [
      "Requirement already satisfied: pandas in /opt/homebrew/lib/python3.11/site-packages (2.0.3)\n",
      "Requirement already satisfied: python-dateutil>=2.8.2 in /Users/annakarolinymatias/Library/Python/3.11/lib/python/site-packages (from pandas) (2.8.2)\n",
      "Requirement already satisfied: pytz>=2020.1 in /opt/homebrew/lib/python3.11/site-packages (from pandas) (2023.3)\n",
      "Requirement already satisfied: tzdata>=2022.1 in /opt/homebrew/lib/python3.11/site-packages (from pandas) (2023.3)\n",
      "Requirement already satisfied: numpy>=1.21.0 in /opt/homebrew/lib/python3.11/site-packages (from pandas) (1.25.0)\n",
      "Requirement already satisfied: six>=1.5 in /Users/annakarolinymatias/Library/Python/3.11/lib/python/site-packages (from python-dateutil>=2.8.2->pandas) (1.16.0)\n",
      "Note: you may need to restart the kernel to use updated packages.\n"
     ]
    }
   ],
   "source": [
    "pip install pandas"
   ]
  },
  {
   "cell_type": "code",
   "execution_count": 3,
   "metadata": {},
   "outputs": [
    {
     "name": "stdout",
     "output_type": "stream",
     "text": [
      "Requirement already satisfied: plotly in /opt/homebrew/lib/python3.11/site-packages (5.15.0)\n",
      "Requirement already satisfied: tenacity>=6.2.0 in /opt/homebrew/lib/python3.11/site-packages (from plotly) (8.2.2)\n",
      "Requirement already satisfied: packaging in /Users/annakarolinymatias/Library/Python/3.11/lib/python/site-packages (from plotly) (23.1)\n",
      "Note: you may need to restart the kernel to use updated packages.\n"
     ]
    }
   ],
   "source": [
    "pip install plotly"
   ]
  },
  {
   "cell_type": "code",
   "execution_count": 4,
   "metadata": {},
   "outputs": [
    {
     "name": "stdout",
     "output_type": "stream",
     "text": [
      "Requirement already satisfied: dash in /opt/homebrew/lib/python3.11/site-packages (2.11.1)\n",
      "Requirement already satisfied: Flask<2.3.0,>=1.0.4 in /opt/homebrew/lib/python3.11/site-packages (from dash) (2.2.5)\n",
      "Requirement already satisfied: Werkzeug<2.3.0 in /opt/homebrew/lib/python3.11/site-packages (from dash) (2.2.3)\n",
      "Requirement already satisfied: plotly>=5.0.0 in /opt/homebrew/lib/python3.11/site-packages (from dash) (5.15.0)\n",
      "Requirement already satisfied: dash-html-components==2.0.0 in /opt/homebrew/lib/python3.11/site-packages (from dash) (2.0.0)\n",
      "Requirement already satisfied: dash-core-components==2.0.0 in /opt/homebrew/lib/python3.11/site-packages (from dash) (2.0.0)\n",
      "Requirement already satisfied: dash-table==5.0.0 in /opt/homebrew/lib/python3.11/site-packages (from dash) (5.0.0)\n",
      "Requirement already satisfied: typing-extensions>=4.1.1 in /opt/homebrew/lib/python3.11/site-packages (from dash) (4.7.1)\n",
      "Requirement already satisfied: requests in /opt/homebrew/lib/python3.11/site-packages (from dash) (2.31.0)\n",
      "Requirement already satisfied: retrying in /opt/homebrew/lib/python3.11/site-packages (from dash) (1.3.4)\n",
      "Requirement already satisfied: ansi2html in /opt/homebrew/lib/python3.11/site-packages (from dash) (1.8.0)\n",
      "Requirement already satisfied: nest-asyncio in /Users/annakarolinymatias/Library/Python/3.11/lib/python/site-packages (from dash) (1.5.6)\n",
      "Requirement already satisfied: Jinja2>=3.0 in /Users/annakarolinymatias/Library/Python/3.11/lib/python/site-packages (from Flask<2.3.0,>=1.0.4->dash) (3.1.2)\n",
      "Requirement already satisfied: itsdangerous>=2.0 in /opt/homebrew/lib/python3.11/site-packages (from Flask<2.3.0,>=1.0.4->dash) (2.1.2)\n",
      "Requirement already satisfied: click>=8.0 in /opt/homebrew/lib/python3.11/site-packages (from Flask<2.3.0,>=1.0.4->dash) (8.1.3)\n",
      "Requirement already satisfied: tenacity>=6.2.0 in /opt/homebrew/lib/python3.11/site-packages (from plotly>=5.0.0->dash) (8.2.2)\n",
      "Requirement already satisfied: packaging in /Users/annakarolinymatias/Library/Python/3.11/lib/python/site-packages (from plotly>=5.0.0->dash) (23.1)\n",
      "Requirement already satisfied: MarkupSafe>=2.1.1 in /Users/annakarolinymatias/Library/Python/3.11/lib/python/site-packages (from Werkzeug<2.3.0->dash) (2.1.3)\n",
      "Requirement already satisfied: charset-normalizer<4,>=2 in /opt/homebrew/lib/python3.11/site-packages (from requests->dash) (3.1.0)\n",
      "Requirement already satisfied: idna<4,>=2.5 in /Users/annakarolinymatias/Library/Python/3.11/lib/python/site-packages (from requests->dash) (3.4)\n",
      "Requirement already satisfied: urllib3<3,>=1.21.1 in /opt/homebrew/lib/python3.11/site-packages (from requests->dash) (2.0.3)\n",
      "Requirement already satisfied: certifi>=2017.4.17 in /opt/homebrew/lib/python3.11/site-packages (from requests->dash) (2023.5.7)\n",
      "Requirement already satisfied: six>=1.7.0 in /Users/annakarolinymatias/Library/Python/3.11/lib/python/site-packages (from retrying->dash) (1.16.0)\n",
      "Note: you may need to restart the kernel to use updated packages.\n"
     ]
    }
   ],
   "source": [
    "pip install dash"
   ]
  },
  {
   "cell_type": "code",
   "execution_count": 5,
   "metadata": {},
   "outputs": [
    {
     "name": "stdout",
     "output_type": "stream",
     "text": [
      "Requirement already satisfied: matplotlib in /opt/homebrew/lib/python3.11/site-packages (3.7.1)\n",
      "Requirement already satisfied: contourpy>=1.0.1 in /opt/homebrew/lib/python3.11/site-packages (from matplotlib) (1.1.0)\n",
      "Requirement already satisfied: cycler>=0.10 in /opt/homebrew/lib/python3.11/site-packages (from matplotlib) (0.11.0)\n",
      "Requirement already satisfied: fonttools>=4.22.0 in /opt/homebrew/lib/python3.11/site-packages (from matplotlib) (4.40.0)\n",
      "Requirement already satisfied: kiwisolver>=1.0.1 in /opt/homebrew/lib/python3.11/site-packages (from matplotlib) (1.4.4)\n",
      "Requirement already satisfied: numpy>=1.20 in /opt/homebrew/lib/python3.11/site-packages (from matplotlib) (1.25.0)\n",
      "Requirement already satisfied: packaging>=20.0 in /Users/annakarolinymatias/Library/Python/3.11/lib/python/site-packages (from matplotlib) (23.1)\n",
      "Requirement already satisfied: pillow>=6.2.0 in /opt/homebrew/lib/python3.11/site-packages (from matplotlib) (10.0.0)\n",
      "Requirement already satisfied: pyparsing>=2.3.1 in /opt/homebrew/lib/python3.11/site-packages (from matplotlib) (3.1.0)\n",
      "Requirement already satisfied: python-dateutil>=2.7 in /Users/annakarolinymatias/Library/Python/3.11/lib/python/site-packages (from matplotlib) (2.8.2)\n",
      "Requirement already satisfied: six>=1.5 in /Users/annakarolinymatias/Library/Python/3.11/lib/python/site-packages (from python-dateutil>=2.7->matplotlib) (1.16.0)\n",
      "Note: you may need to restart the kernel to use updated packages.\n"
     ]
    }
   ],
   "source": [
    "pip install matplotlib"
   ]
  },
  {
   "cell_type": "code",
   "execution_count": 6,
   "metadata": {},
   "outputs": [
    {
     "name": "stderr",
     "output_type": "stream",
     "text": [
      "/var/folders/qt/gmx8ztmn2gl7tvtxk3nkckh40000gn/T/ipykernel_29010/2276477601.py:3: UserWarning: \n",
      "The dash_core_components package is deprecated. Please replace\n",
      "`import dash_core_components as dcc` with `from dash import dcc`\n",
      "  import dash_core_components as dcc\n",
      "/var/folders/qt/gmx8ztmn2gl7tvtxk3nkckh40000gn/T/ipykernel_29010/2276477601.py:4: UserWarning: \n",
      "The dash_html_components package is deprecated. Please replace\n",
      "`import dash_html_components as html` with `from dash import html`\n",
      "  import dash_html_components as html\n"
     ]
    }
   ],
   "source": [
    "from exploratory_visualization import comercializacao, exportacao, importacao_vinhos, importacao_espumantes, producao_vinhos\n",
    "import dash\n",
    "import dash_core_components as dcc\n",
    "import dash_html_components as html\n",
    "import pandas as pd\n",
    "import plotly.express as px\n",
    "import matplotlib.pyplot as plt"
   ]
  },
  {
   "cell_type": "markdown",
   "metadata": {},
   "source": [
    "## Comercialização"
   ]
  },
  {
   "cell_type": "code",
   "execution_count": 7,
   "metadata": {},
   "outputs": [
    {
     "data": {
      "text/html": [
       "<div>\n",
       "<style scoped>\n",
       "    .dataframe tbody tr th:only-of-type {\n",
       "        vertical-align: middle;\n",
       "    }\n",
       "\n",
       "    .dataframe tbody tr th {\n",
       "        vertical-align: top;\n",
       "    }\n",
       "\n",
       "    .dataframe thead th {\n",
       "        text-align: right;\n",
       "    }\n",
       "</style>\n",
       "<table border=\"1\" class=\"dataframe\">\n",
       "  <thead>\n",
       "    <tr style=\"text-align: right;\">\n",
       "      <th></th>\n",
       "      <th>PRODUTO</th>\n",
       "      <th>ANO</th>\n",
       "      <th>QTD_LITRO</th>\n",
       "    </tr>\n",
       "  </thead>\n",
       "  <tbody>\n",
       "    <tr>\n",
       "      <th>2196</th>\n",
       "      <td>VINHO DE MESA</td>\n",
       "      <td>2006</td>\n",
       "      <td>245625614.0</td>\n",
       "    </tr>\n",
       "    <tr>\n",
       "      <th>2197</th>\n",
       "      <td>Tinto</td>\n",
       "      <td>2006</td>\n",
       "      <td>209438207.0</td>\n",
       "    </tr>\n",
       "    <tr>\n",
       "      <th>2198</th>\n",
       "      <td>Rosado</td>\n",
       "      <td>2006</td>\n",
       "      <td>3071382.0</td>\n",
       "    </tr>\n",
       "    <tr>\n",
       "      <th>2199</th>\n",
       "      <td>Branco</td>\n",
       "      <td>2006</td>\n",
       "      <td>33116025.0</td>\n",
       "    </tr>\n",
       "    <tr>\n",
       "      <th>2200</th>\n",
       "      <td>VINHO  FINO DE MESA</td>\n",
       "      <td>2006</td>\n",
       "      <td>22767358.0</td>\n",
       "    </tr>\n",
       "    <tr>\n",
       "      <th>...</th>\n",
       "      <td>...</td>\n",
       "      <td>...</td>\n",
       "      <td>...</td>\n",
       "    </tr>\n",
       "    <tr>\n",
       "      <th>3165</th>\n",
       "      <td>Vinagre simples</td>\n",
       "      <td>2021</td>\n",
       "      <td>5647166.0</td>\n",
       "    </tr>\n",
       "    <tr>\n",
       "      <th>3166</th>\n",
       "      <td>Vinho acetificado</td>\n",
       "      <td>2021</td>\n",
       "      <td>1448086.0</td>\n",
       "    </tr>\n",
       "    <tr>\n",
       "      <th>3168</th>\n",
       "      <td>Vinho composto</td>\n",
       "      <td>2021</td>\n",
       "      <td>227116.0</td>\n",
       "    </tr>\n",
       "    <tr>\n",
       "      <th>3169</th>\n",
       "      <td>Vinho licoroso</td>\n",
       "      <td>2021</td>\n",
       "      <td>376597.0</td>\n",
       "    </tr>\n",
       "    <tr>\n",
       "      <th>3171</th>\n",
       "      <td>Vinho gaseificado</td>\n",
       "      <td>2021</td>\n",
       "      <td>53495.0</td>\n",
       "    </tr>\n",
       "  </tbody>\n",
       "</table>\n",
       "<p>710 rows × 3 columns</p>\n",
       "</div>"
      ],
      "text/plain": [
       "                  PRODUTO   ANO    QTD_LITRO\n",
       "2196        VINHO DE MESA  2006  245625614.0\n",
       "2197                Tinto  2006  209438207.0\n",
       "2198               Rosado  2006    3071382.0\n",
       "2199               Branco  2006   33116025.0\n",
       "2200  VINHO  FINO DE MESA  2006   22767358.0\n",
       "...                   ...   ...          ...\n",
       "3165      Vinagre simples  2021    5647166.0\n",
       "3166    Vinho acetificado  2021    1448086.0\n",
       "3168       Vinho composto  2021     227116.0\n",
       "3169       Vinho licoroso  2021     376597.0\n",
       "3171    Vinho gaseificado  2021      53495.0\n",
       "\n",
       "[710 rows x 3 columns]"
      ]
     },
     "execution_count": 7,
     "metadata": {},
     "output_type": "execute_result"
    }
   ],
   "source": [
    "df_comercio = comercializacao()\n",
    "df_comercio = df_comercio.loc[df_comercio[\"ANO\"] >= 2006].query('QTD_LITRO != 0.0')\n",
    "df_comercio"
   ]
  },
  {
   "cell_type": "markdown",
   "metadata": {},
   "source": [
    "## Quantidade de produtos fabricados"
   ]
  },
  {
   "cell_type": "code",
   "execution_count": 8,
   "metadata": {},
   "outputs": [
    {
     "name": "stdout",
     "output_type": "stream",
     "text": [
      "['VINHO DE MESA' '  Tinto' '  Rosado' '  Branco' 'VINHO  FINO DE MESA'\n",
      " 'VINHO FRIZANTE' 'VINHO ESPECIAL' 'ESPUMANTES ' '  Espumante  Moscatel'\n",
      " '  Espumante' 'SUCO DE UVAS' 'SUCO DE UVAS CONCENTRADO'\n",
      " 'OUTROS PRODUTOS COMERCIALIZADOS' '  Agrin (fermentado, acetico misto)'\n",
      " '  Bagaceira (graspa)' '  Bebida de uva' '  Brandy (conhaque)' '  Cooler'\n",
      " '  Coquetel com vinho' '  Destilado de vinho' '  Filtrado doce'\n",
      " '  Jeropiga' '  Mistelas' '  Mosto de uva' '  Nectar de uva'\n",
      " '  Outros produtos' '  Polpa de uva' '  Preparado líquido para refresco'\n",
      " '  Sangria' '  Vinagre balsamico' '  Vinagre duplo' '  Vinagre simples'\n",
      " '  Vinho acetificado' '  Vinho base para espumantes' '  Vinho composto'\n",
      " '  Vinho licoroso' '  Borra seca' '  Base champenoise champanha'\n",
      " '  Base charmat champanha' '  Base espumante moscatel' '  Borra líquida'\n",
      " 'Aguardente de vinho 50°gl' '  Alcool vinico'\n",
      " '  Outros vinhos (sem informação detalhada)' 'Refrigerante +50% suco'\n",
      " '  Vinho leve' '  Vinho gaseificado' 'VINHO ORGÂNICO'\n",
      " '  Espumante Orgânico' '   Suco Natural Integral'\n",
      " '   Suco Reprocessado/reconstituido' '   Suco Orgânico'\n",
      " '   Outros sucos de uvas' '  Mosto sulfitado'] \n",
      "\n",
      "Quantidade de produtos fabricados: 54\n"
     ]
    }
   ],
   "source": [
    "print(df_comercio[\"PRODUTO\"].unique(), \"\\n\")\n",
    "\n",
    "print(\"Quantidade de produtos fabricados:\", len(df_comercio[\"PRODUTO\"].unique()))"
   ]
  },
  {
   "cell_type": "code",
   "execution_count": 9,
   "metadata": {},
   "outputs": [
    {
     "name": "stdout",
     "output_type": "stream",
     "text": [
      "45\n"
     ]
    }
   ],
   "source": [
    "# Ignorando sessão de tipo de produto, para contagem limpa de produtos fabricados\n",
    "lista = ['VINHO DE MESA', '  Tinto', '  Rosado', '  Branco', 'VINHO  FINO DE MESA', 'VINHO FRIZANTE', 'VINHO ESPECIAL', 'ESPUMANTES', '  Espumante  Moscatel', '  Espumante', 'SUCO DE UVAS', 'SUCO DE UVAS CONCENTRADO', 'OUTROS PRODUTOS COMERCIALIZADOS', '  Agrin (fermentado, acetico misto)', '  Bagaceira (graspa)', '  Bebida de uva', '  Brandy (conhaque)', '  Cooler', '  Coquetel com vinho', '  Destilado de vinho', '  Filtrado doce', '  Jeropiga', '  Mistelas', '  Mosto de uva', '  Nectar de uva', '  Outros produtos', '  Polpa de uva', '  Preparado líquido para refresco', '  Sangria', '  Vinagre balsamico', '  Vinagre duplo', '  Vinagre simples', '  Vinho acetificado', '  Vinho base para espumantes', '  Vinho composto', '  Vinho licoroso', '  Borra seca', '  Base champenoise champanha', '  Base charmat champanha', '  Base espumante moscatel', '  Borra líquida', 'Aguardente de vinho 50°gl', '  Alcool vinico', '  Outros vinhos (sem informação detalhada)', 'Refrigerante +50% suco', '  Vinho leve', '  Vinho gaseificado', 'VINHO ORGÂNICO', '  Espumante Orgânico', '   Suco Natural Integral', '   Suco Reprocessado/reconstituido', '   Suco Orgânico', '   Outros sucos de uvas', '  Mosto sulfitado']\n",
    "\n",
    "contagem = 0\n",
    "\n",
    "for elemento in lista:\n",
    "    if not elemento.isupper():\n",
    "        contagem += 1\n",
    "    else:\n",
    "        contagem = contagem\n",
    "\n",
    "print(contagem)"
   ]
  },
  {
   "cell_type": "markdown",
   "metadata": {},
   "source": [
    "## Media de Litros"
   ]
  },
  {
   "cell_type": "code",
   "execution_count": 10,
   "metadata": {},
   "outputs": [
    {
     "name": "stdout",
     "output_type": "stream",
     "text": [
      "15627926397.18\n"
     ]
    }
   ],
   "source": [
    "valor_m3 = df_comercio[\"QTD_LITRO\"].mean()\n",
    "equivalente_litros = valor_m3 * 1000\n",
    "\n",
    "print(round(equivalente_litros, 2))\n"
   ]
  },
  {
   "cell_type": "markdown",
   "metadata": {},
   "source": [
    "## Anos em destaque em comercialização por produto."
   ]
  },
  {
   "cell_type": "code",
   "execution_count": 11,
   "metadata": {},
   "outputs": [
    {
     "data": {
      "text/html": [
       "<div>\n",
       "<style scoped>\n",
       "    .dataframe tbody tr th:only-of-type {\n",
       "        vertical-align: middle;\n",
       "    }\n",
       "\n",
       "    .dataframe tbody tr th {\n",
       "        vertical-align: top;\n",
       "    }\n",
       "\n",
       "    .dataframe thead th {\n",
       "        text-align: right;\n",
       "    }\n",
       "</style>\n",
       "<table border=\"1\" class=\"dataframe\">\n",
       "  <thead>\n",
       "    <tr style=\"text-align: right;\">\n",
       "      <th></th>\n",
       "      <th>ANO</th>\n",
       "      <th>QTD_PRODUTO_ANO</th>\n",
       "      <th>MEDIA_LITROS</th>\n",
       "    </tr>\n",
       "  </thead>\n",
       "  <tbody>\n",
       "    <tr>\n",
       "      <th>0</th>\n",
       "      <td>2006</td>\n",
       "      <td>41</td>\n",
       "      <td>1.594076e+07</td>\n",
       "    </tr>\n",
       "    <tr>\n",
       "      <th>1</th>\n",
       "      <td>2007</td>\n",
       "      <td>40</td>\n",
       "      <td>1.540531e+07</td>\n",
       "    </tr>\n",
       "    <tr>\n",
       "      <th>2</th>\n",
       "      <td>2008</td>\n",
       "      <td>42</td>\n",
       "      <td>1.383205e+07</td>\n",
       "    </tr>\n",
       "    <tr>\n",
       "      <th>3</th>\n",
       "      <td>2009</td>\n",
       "      <td>40</td>\n",
       "      <td>1.698876e+07</td>\n",
       "    </tr>\n",
       "    <tr>\n",
       "      <th>4</th>\n",
       "      <td>2010</td>\n",
       "      <td>44</td>\n",
       "      <td>1.462061e+07</td>\n",
       "    </tr>\n",
       "    <tr>\n",
       "      <th>5</th>\n",
       "      <td>2011</td>\n",
       "      <td>44</td>\n",
       "      <td>1.528532e+07</td>\n",
       "    </tr>\n",
       "    <tr>\n",
       "      <th>6</th>\n",
       "      <td>2012</td>\n",
       "      <td>44</td>\n",
       "      <td>1.462658e+07</td>\n",
       "    </tr>\n",
       "    <tr>\n",
       "      <th>7</th>\n",
       "      <td>2013</td>\n",
       "      <td>44</td>\n",
       "      <td>1.638221e+07</td>\n",
       "    </tr>\n",
       "    <tr>\n",
       "      <th>8</th>\n",
       "      <td>2014</td>\n",
       "      <td>43</td>\n",
       "      <td>1.598253e+07</td>\n",
       "    </tr>\n",
       "    <tr>\n",
       "      <th>9</th>\n",
       "      <td>2015</td>\n",
       "      <td>43</td>\n",
       "      <td>1.656673e+07</td>\n",
       "    </tr>\n",
       "    <tr>\n",
       "      <th>10</th>\n",
       "      <td>2016</td>\n",
       "      <td>44</td>\n",
       "      <td>1.326842e+07</td>\n",
       "    </tr>\n",
       "    <tr>\n",
       "      <th>11</th>\n",
       "      <td>2017</td>\n",
       "      <td>41</td>\n",
       "      <td>1.489598e+07</td>\n",
       "    </tr>\n",
       "    <tr>\n",
       "      <th>12</th>\n",
       "      <td>2018</td>\n",
       "      <td>46</td>\n",
       "      <td>1.410080e+07</td>\n",
       "    </tr>\n",
       "    <tr>\n",
       "      <th>13</th>\n",
       "      <td>2019</td>\n",
       "      <td>51</td>\n",
       "      <td>1.634778e+07</td>\n",
       "    </tr>\n",
       "    <tr>\n",
       "      <th>14</th>\n",
       "      <td>2020</td>\n",
       "      <td>53</td>\n",
       "      <td>1.684573e+07</td>\n",
       "    </tr>\n",
       "    <tr>\n",
       "      <th>15</th>\n",
       "      <td>2021</td>\n",
       "      <td>50</td>\n",
       "      <td>1.831879e+07</td>\n",
       "    </tr>\n",
       "  </tbody>\n",
       "</table>\n",
       "</div>"
      ],
      "text/plain": [
       "     ANO  QTD_PRODUTO_ANO  MEDIA_LITROS\n",
       "0   2006               41  1.594076e+07\n",
       "1   2007               40  1.540531e+07\n",
       "2   2008               42  1.383205e+07\n",
       "3   2009               40  1.698876e+07\n",
       "4   2010               44  1.462061e+07\n",
       "5   2011               44  1.528532e+07\n",
       "6   2012               44  1.462658e+07\n",
       "7   2013               44  1.638221e+07\n",
       "8   2014               43  1.598253e+07\n",
       "9   2015               43  1.656673e+07\n",
       "10  2016               44  1.326842e+07\n",
       "11  2017               41  1.489598e+07\n",
       "12  2018               46  1.410080e+07\n",
       "13  2019               51  1.634778e+07\n",
       "14  2020               53  1.684573e+07\n",
       "15  2021               50  1.831879e+07"
      ]
     },
     "execution_count": 11,
     "metadata": {},
     "output_type": "execute_result"
    }
   ],
   "source": [
    "df_comercio_grouped = df_comercio.groupby('ANO').agg(QTD_PRODUTO_ANO=('PRODUTO', 'count'), MEDIA_LITROS=('QTD_LITRO', 'mean')).reset_index()\n",
    "df_comercio_grouped"
   ]
  },
  {
   "cell_type": "markdown",
   "metadata": {},
   "source": [
    "## Media de QTD de produtos por ano"
   ]
  },
  {
   "cell_type": "code",
   "execution_count": 12,
   "metadata": {},
   "outputs": [
    {
     "data": {
      "text/plain": [
       "44.375"
      ]
     },
     "execution_count": 12,
     "metadata": {},
     "output_type": "execute_result"
    }
   ],
   "source": [
    "df_comercio_grouped[\"QTD_PRODUTO_ANO\"].mean()"
   ]
  },
  {
   "cell_type": "markdown",
   "metadata": {},
   "source": [
    "## Representação em gráfico"
   ]
  },
  {
   "cell_type": "code",
   "execution_count": 13,
   "metadata": {},
   "outputs": [
    {
     "data": {
      "image/png": "[encoded data removed]",
      "text/plain": [
       "<Figure size 640x480 with 1 Axes>"
      ]
     },
     "metadata": {},
     "output_type": "display_data"
    }
   ],
   "source": [
    "df_comercio_grouped.plot(x='ANO', y='QTD_PRODUTO_ANO', kind='bar')\n",
    "\n",
    "plt.title('Quantidade de Produtos por Ano')\n",
    "plt.xlabel('Anos')\n",
    "plt.ylabel('Quantidade de Produtos')\n",
    "\n",
    "plt.show()"
   ]
  },
  {
   "cell_type": "markdown",
   "metadata": {},
   "source": [
    "# Países que mais realizam compras (exportaçao) e quantidade de receita "
   ]
  },
  {
   "cell_type": "code",
   "execution_count": 14,
   "metadata": {},
   "outputs": [
    {
     "data": {
      "text/html": [
       "<div>\n",
       "<style scoped>\n",
       "    .dataframe tbody tr th:only-of-type {\n",
       "        vertical-align: middle;\n",
       "    }\n",
       "\n",
       "    .dataframe tbody tr th {\n",
       "        vertical-align: top;\n",
       "    }\n",
       "\n",
       "    .dataframe thead th {\n",
       "        text-align: right;\n",
       "    }\n",
       "</style>\n",
       "<table border=\"1\" class=\"dataframe\">\n",
       "  <thead>\n",
       "    <tr style=\"text-align: right;\">\n",
       "      <th></th>\n",
       "      <th>País</th>\n",
       "      <th>ANO</th>\n",
       "      <th>QTD_LITRO</th>\n",
       "      <th>VALOR_US</th>\n",
       "    </tr>\n",
       "  </thead>\n",
       "  <tbody>\n",
       "    <tr>\n",
       "      <th>4464</th>\n",
       "      <td>Afeganistão</td>\n",
       "      <td>2006</td>\n",
       "      <td>0</td>\n",
       "      <td>0</td>\n",
       "    </tr>\n",
       "    <tr>\n",
       "      <th>4465</th>\n",
       "      <td>África do Sul</td>\n",
       "      <td>2006</td>\n",
       "      <td>0</td>\n",
       "      <td>0</td>\n",
       "    </tr>\n",
       "    <tr>\n",
       "      <th>4466</th>\n",
       "      <td>Alemanha, República Democrática</td>\n",
       "      <td>2006</td>\n",
       "      <td>38302</td>\n",
       "      <td>89231</td>\n",
       "    </tr>\n",
       "    <tr>\n",
       "      <th>4467</th>\n",
       "      <td>Angola</td>\n",
       "      <td>2006</td>\n",
       "      <td>3766</td>\n",
       "      <td>18293</td>\n",
       "    </tr>\n",
       "    <tr>\n",
       "      <th>4468</th>\n",
       "      <td>Anguilla</td>\n",
       "      <td>2006</td>\n",
       "      <td>0</td>\n",
       "      <td>0</td>\n",
       "    </tr>\n",
       "    <tr>\n",
       "      <th>...</th>\n",
       "      <td>...</td>\n",
       "      <td>...</td>\n",
       "      <td>...</td>\n",
       "      <td>...</td>\n",
       "    </tr>\n",
       "    <tr>\n",
       "      <th>6443</th>\n",
       "      <td>Tuvalu</td>\n",
       "      <td>2021</td>\n",
       "      <td>0</td>\n",
       "      <td>0</td>\n",
       "    </tr>\n",
       "    <tr>\n",
       "      <th>6444</th>\n",
       "      <td>Uruguai</td>\n",
       "      <td>2021</td>\n",
       "      <td>136774</td>\n",
       "      <td>149842</td>\n",
       "    </tr>\n",
       "    <tr>\n",
       "      <th>6445</th>\n",
       "      <td>Vanuatu</td>\n",
       "      <td>2021</td>\n",
       "      <td>0</td>\n",
       "      <td>0</td>\n",
       "    </tr>\n",
       "    <tr>\n",
       "      <th>6446</th>\n",
       "      <td>Venezuela</td>\n",
       "      <td>2021</td>\n",
       "      <td>26415</td>\n",
       "      <td>35944</td>\n",
       "    </tr>\n",
       "    <tr>\n",
       "      <th>6447</th>\n",
       "      <td>Vietnã</td>\n",
       "      <td>2021</td>\n",
       "      <td>0</td>\n",
       "      <td>0</td>\n",
       "    </tr>\n",
       "  </tbody>\n",
       "</table>\n",
       "<p>1984 rows × 4 columns</p>\n",
       "</div>"
      ],
      "text/plain": [
       "                                 País   ANO  QTD_LITRO  VALOR_US\n",
       "4464                      Afeganistão  2006          0         0\n",
       "4465                    África do Sul  2006          0         0\n",
       "4466  Alemanha, República Democrática  2006      38302     89231\n",
       "4467                           Angola  2006       3766     18293\n",
       "4468                         Anguilla  2006          0         0\n",
       "...                               ...   ...        ...       ...\n",
       "6443                           Tuvalu  2021          0         0\n",
       "6444                          Uruguai  2021     136774    149842\n",
       "6445                          Vanuatu  2021          0         0\n",
       "6446                        Venezuela  2021      26415     35944\n",
       "6447                           Vietnã  2021          0         0\n",
       "\n",
       "[1984 rows x 4 columns]"
      ]
     },
     "execution_count": 14,
     "metadata": {},
     "output_type": "execute_result"
    }
   ],
   "source": [
    "df_exportacao = exportacao()\n",
    "df_exportacao = df_exportacao.loc[df_exportacao[\"ANO\"] >= 2006]\n",
    "df_exportacao"
   ]
  },
  {
   "cell_type": "markdown",
   "metadata": {},
   "source": [
    "## Media de quantidade de receita nos ultimos 15 anos e por ano"
   ]
  },
  {
   "cell_type": "code",
   "execution_count": 15,
   "metadata": {},
   "outputs": [
    {
     "data": {
      "text/html": [
       "<div>\n",
       "<style scoped>\n",
       "    .dataframe tbody tr th:only-of-type {\n",
       "        vertical-align: middle;\n",
       "    }\n",
       "\n",
       "    .dataframe tbody tr th {\n",
       "        vertical-align: top;\n",
       "    }\n",
       "\n",
       "    .dataframe thead th {\n",
       "        text-align: right;\n",
       "    }\n",
       "</style>\n",
       "<table border=\"1\" class=\"dataframe\">\n",
       "  <thead>\n",
       "    <tr style=\"text-align: right;\">\n",
       "      <th></th>\n",
       "      <th>ANO</th>\n",
       "      <th>MEDIA_RECEITA_ANO</th>\n",
       "    </tr>\n",
       "  </thead>\n",
       "  <tbody>\n",
       "    <tr>\n",
       "      <th>0</th>\n",
       "      <td>2006</td>\n",
       "      <td>21436.346774</td>\n",
       "    </tr>\n",
       "    <tr>\n",
       "      <th>1</th>\n",
       "      <td>2007</td>\n",
       "      <td>29727.016129</td>\n",
       "    </tr>\n",
       "    <tr>\n",
       "      <th>2</th>\n",
       "      <td>2008</td>\n",
       "      <td>57404.032258</td>\n",
       "    </tr>\n",
       "    <tr>\n",
       "      <th>3</th>\n",
       "      <td>2009</td>\n",
       "      <td>72104.741935</td>\n",
       "    </tr>\n",
       "    <tr>\n",
       "      <th>4</th>\n",
       "      <td>2010</td>\n",
       "      <td>20929.862903</td>\n",
       "    </tr>\n",
       "    <tr>\n",
       "      <th>5</th>\n",
       "      <td>2011</td>\n",
       "      <td>29154.193548</td>\n",
       "    </tr>\n",
       "    <tr>\n",
       "      <th>6</th>\n",
       "      <td>2012</td>\n",
       "      <td>44526.556452</td>\n",
       "    </tr>\n",
       "    <tr>\n",
       "      <th>7</th>\n",
       "      <td>2013</td>\n",
       "      <td>183426.169355</td>\n",
       "    </tr>\n",
       "    <tr>\n",
       "      <th>8</th>\n",
       "      <td>2014</td>\n",
       "      <td>60264.475806</td>\n",
       "    </tr>\n",
       "    <tr>\n",
       "      <th>9</th>\n",
       "      <td>2015</td>\n",
       "      <td>22331.935484</td>\n",
       "    </tr>\n",
       "    <tr>\n",
       "      <th>10</th>\n",
       "      <td>2016</td>\n",
       "      <td>35763.741935</td>\n",
       "    </tr>\n",
       "    <tr>\n",
       "      <th>11</th>\n",
       "      <td>2017</td>\n",
       "      <td>57545.217742</td>\n",
       "    </tr>\n",
       "    <tr>\n",
       "      <th>12</th>\n",
       "      <td>2018</td>\n",
       "      <td>60371.475806</td>\n",
       "    </tr>\n",
       "    <tr>\n",
       "      <th>13</th>\n",
       "      <td>2019</td>\n",
       "      <td>47861.500000</td>\n",
       "    </tr>\n",
       "    <tr>\n",
       "      <th>14</th>\n",
       "      <td>2020</td>\n",
       "      <td>49018.451613</td>\n",
       "    </tr>\n",
       "    <tr>\n",
       "      <th>15</th>\n",
       "      <td>2021</td>\n",
       "      <td>79451.145161</td>\n",
       "    </tr>\n",
       "  </tbody>\n",
       "</table>\n",
       "</div>"
      ],
      "text/plain": [
       "     ANO  MEDIA_RECEITA_ANO\n",
       "0   2006       21436.346774\n",
       "1   2007       29727.016129\n",
       "2   2008       57404.032258\n",
       "3   2009       72104.741935\n",
       "4   2010       20929.862903\n",
       "5   2011       29154.193548\n",
       "6   2012       44526.556452\n",
       "7   2013      183426.169355\n",
       "8   2014       60264.475806\n",
       "9   2015       22331.935484\n",
       "10  2016       35763.741935\n",
       "11  2017       57545.217742\n",
       "12  2018       60371.475806\n",
       "13  2019       47861.500000\n",
       "14  2020       49018.451613\n",
       "15  2021       79451.145161"
      ]
     },
     "execution_count": 15,
     "metadata": {},
     "output_type": "execute_result"
    }
   ],
   "source": [
    "df_media_expo = df_exportacao.groupby('ANO').agg(MEDIA_RECEITA_ANO=('VALOR_US', 'mean')).reset_index()\n",
    "df_media_expo"
   ]
  },
  {
   "cell_type": "code",
   "execution_count": 16,
   "metadata": {},
   "outputs": [
    {
     "name": "stdout",
     "output_type": "stream",
     "text": [
      "54457.3\n"
     ]
    }
   ],
   "source": [
    "print(round(df_media_expo[\"MEDIA_RECEITA_ANO\"].mean(), 2))"
   ]
  },
  {
   "cell_type": "code",
   "execution_count": 17,
   "metadata": {},
   "outputs": [
    {
     "data": {
      "text/html": [
       "<div>\n",
       "<style scoped>\n",
       "    .dataframe tbody tr th:only-of-type {\n",
       "        vertical-align: middle;\n",
       "    }\n",
       "\n",
       "    .dataframe tbody tr th {\n",
       "        vertical-align: top;\n",
       "    }\n",
       "\n",
       "    .dataframe thead th {\n",
       "        text-align: right;\n",
       "    }\n",
       "</style>\n",
       "<table border=\"1\" class=\"dataframe\">\n",
       "  <thead>\n",
       "    <tr style=\"text-align: right;\">\n",
       "      <th></th>\n",
       "      <th>ANO</th>\n",
       "      <th>VALOR_BRUTO</th>\n",
       "      <th>MEDIA_RECEITA_ANO</th>\n",
       "    </tr>\n",
       "  </thead>\n",
       "  <tbody>\n",
       "    <tr>\n",
       "      <th>0</th>\n",
       "      <td>2006</td>\n",
       "      <td>124</td>\n",
       "      <td>21436.346774</td>\n",
       "    </tr>\n",
       "    <tr>\n",
       "      <th>1</th>\n",
       "      <td>2007</td>\n",
       "      <td>124</td>\n",
       "      <td>29727.016129</td>\n",
       "    </tr>\n",
       "    <tr>\n",
       "      <th>2</th>\n",
       "      <td>2008</td>\n",
       "      <td>124</td>\n",
       "      <td>57404.032258</td>\n",
       "    </tr>\n",
       "    <tr>\n",
       "      <th>3</th>\n",
       "      <td>2009</td>\n",
       "      <td>124</td>\n",
       "      <td>72104.741935</td>\n",
       "    </tr>\n",
       "    <tr>\n",
       "      <th>4</th>\n",
       "      <td>2010</td>\n",
       "      <td>124</td>\n",
       "      <td>20929.862903</td>\n",
       "    </tr>\n",
       "    <tr>\n",
       "      <th>5</th>\n",
       "      <td>2011</td>\n",
       "      <td>124</td>\n",
       "      <td>29154.193548</td>\n",
       "    </tr>\n",
       "    <tr>\n",
       "      <th>6</th>\n",
       "      <td>2012</td>\n",
       "      <td>124</td>\n",
       "      <td>44526.556452</td>\n",
       "    </tr>\n",
       "    <tr>\n",
       "      <th>7</th>\n",
       "      <td>2013</td>\n",
       "      <td>124</td>\n",
       "      <td>183426.169355</td>\n",
       "    </tr>\n",
       "    <tr>\n",
       "      <th>8</th>\n",
       "      <td>2014</td>\n",
       "      <td>124</td>\n",
       "      <td>60264.475806</td>\n",
       "    </tr>\n",
       "    <tr>\n",
       "      <th>9</th>\n",
       "      <td>2015</td>\n",
       "      <td>124</td>\n",
       "      <td>22331.935484</td>\n",
       "    </tr>\n",
       "    <tr>\n",
       "      <th>10</th>\n",
       "      <td>2016</td>\n",
       "      <td>124</td>\n",
       "      <td>35763.741935</td>\n",
       "    </tr>\n",
       "    <tr>\n",
       "      <th>11</th>\n",
       "      <td>2017</td>\n",
       "      <td>124</td>\n",
       "      <td>57545.217742</td>\n",
       "    </tr>\n",
       "    <tr>\n",
       "      <th>12</th>\n",
       "      <td>2018</td>\n",
       "      <td>124</td>\n",
       "      <td>60371.475806</td>\n",
       "    </tr>\n",
       "    <tr>\n",
       "      <th>13</th>\n",
       "      <td>2019</td>\n",
       "      <td>124</td>\n",
       "      <td>47861.500000</td>\n",
       "    </tr>\n",
       "    <tr>\n",
       "      <th>14</th>\n",
       "      <td>2020</td>\n",
       "      <td>124</td>\n",
       "      <td>49018.451613</td>\n",
       "    </tr>\n",
       "    <tr>\n",
       "      <th>15</th>\n",
       "      <td>2021</td>\n",
       "      <td>124</td>\n",
       "      <td>79451.145161</td>\n",
       "    </tr>\n",
       "  </tbody>\n",
       "</table>\n",
       "</div>"
      ],
      "text/plain": [
       "     ANO  VALOR_BRUTO  MEDIA_RECEITA_ANO\n",
       "0   2006          124       21436.346774\n",
       "1   2007          124       29727.016129\n",
       "2   2008          124       57404.032258\n",
       "3   2009          124       72104.741935\n",
       "4   2010          124       20929.862903\n",
       "5   2011          124       29154.193548\n",
       "6   2012          124       44526.556452\n",
       "7   2013          124      183426.169355\n",
       "8   2014          124       60264.475806\n",
       "9   2015          124       22331.935484\n",
       "10  2016          124       35763.741935\n",
       "11  2017          124       57545.217742\n",
       "12  2018          124       60371.475806\n",
       "13  2019          124       47861.500000\n",
       "14  2020          124       49018.451613\n",
       "15  2021          124       79451.145161"
      ]
     },
     "execution_count": 17,
     "metadata": {},
     "output_type": "execute_result"
    }
   ],
   "source": [
    "df_exportacao.groupby('ANO').agg(VALOR_BRUTO=('VALOR_US', 'count'), MEDIA_RECEITA_ANO=('VALOR_US', 'mean')).reset_index()\n"
   ]
  },
  {
   "cell_type": "markdown",
   "metadata": {},
   "source": [
    "## Verificando o mais que mais exportou vinho"
   ]
  },
  {
   "cell_type": "code",
   "execution_count": 18,
   "metadata": {},
   "outputs": [
    {
     "name": "stdout",
     "output_type": "stream",
     "text": [
      "Afeganistão\n"
     ]
    }
   ],
   "source": [
    "contagem = df_exportacao['País'].value_counts()\n",
    "\n",
    "maior_ocorrencia = contagem.idxmax()\n",
    "\n",
    "print(maior_ocorrencia)"
   ]
  },
  {
   "cell_type": "code",
   "execution_count": 19,
   "metadata": {},
   "outputs": [
    {
     "name": "stdout",
     "output_type": "stream",
     "text": [
      "     ANO MAIOR_OCORRENCIA\n",
      "0   2006      Afeganistão\n",
      "1   2007      Afeganistão\n",
      "2   2008      Afeganistão\n",
      "3   2009      Afeganistão\n",
      "4   2010      Afeganistão\n",
      "5   2011      Afeganistão\n",
      "6   2012      Afeganistão\n",
      "7   2013      Afeganistão\n",
      "8   2014      Afeganistão\n",
      "9   2015      Afeganistão\n",
      "10  2016      Afeganistão\n",
      "11  2017      Afeganistão\n",
      "12  2018      Afeganistão\n",
      "13  2019      Afeganistão\n",
      "14  2020      Afeganistão\n",
      "15  2021      Afeganistão\n"
     ]
    }
   ],
   "source": [
    "maior_ocorrencia = df_exportacao.groupby('ANO')['País'].apply(lambda x: x.value_counts().idxmax()).reset_index()\n",
    "\n",
    "# Renomear as colunas\n",
    "maior_ocorrencia.columns = ['ANO', 'MAIOR_OCORRENCIA']\n",
    "\n",
    "# Exibir o DataFrame resultante\n",
    "print(maior_ocorrencia)"
   ]
  },
  {
   "cell_type": "markdown",
   "metadata": {},
   "source": [
    "# Entendendo qual produto foi mais produzido por litro de acordo com o ano"
   ]
  },
  {
   "cell_type": "code",
   "execution_count": 20,
   "metadata": {},
   "outputs": [
    {
     "data": {
      "text/html": [
       "<div>\n",
       "<style scoped>\n",
       "    .dataframe tbody tr th:only-of-type {\n",
       "        vertical-align: middle;\n",
       "    }\n",
       "\n",
       "    .dataframe tbody tr th {\n",
       "        vertical-align: top;\n",
       "    }\n",
       "\n",
       "    .dataframe thead th {\n",
       "        text-align: right;\n",
       "    }\n",
       "</style>\n",
       "<table border=\"1\" class=\"dataframe\">\n",
       "  <thead>\n",
       "    <tr style=\"text-align: right;\">\n",
       "      <th></th>\n",
       "      <th>PRODUTO</th>\n",
       "      <th>ANO</th>\n",
       "      <th>QTD_LITRO</th>\n",
       "    </tr>\n",
       "  </thead>\n",
       "  <tbody>\n",
       "    <tr>\n",
       "      <th>1836</th>\n",
       "      <td>VINHO DE MESA</td>\n",
       "      <td>2006</td>\n",
       "      <td>185100887</td>\n",
       "    </tr>\n",
       "    <tr>\n",
       "      <th>1837</th>\n",
       "      <td>Tinto</td>\n",
       "      <td>2006</td>\n",
       "      <td>149552555</td>\n",
       "    </tr>\n",
       "    <tr>\n",
       "      <th>1838</th>\n",
       "      <td>Branco</td>\n",
       "      <td>2006</td>\n",
       "      <td>31738390</td>\n",
       "    </tr>\n",
       "    <tr>\n",
       "      <th>1839</th>\n",
       "      <td>Rosado</td>\n",
       "      <td>2006</td>\n",
       "      <td>3809942</td>\n",
       "    </tr>\n",
       "    <tr>\n",
       "      <th>1840</th>\n",
       "      <td>VINHO FINO DE MESA (VINÍFERA)</td>\n",
       "      <td>2006</td>\n",
       "      <td>32168977</td>\n",
       "    </tr>\n",
       "    <tr>\n",
       "      <th>...</th>\n",
       "      <td>...</td>\n",
       "      <td>...</td>\n",
       "      <td>...</td>\n",
       "    </tr>\n",
       "    <tr>\n",
       "      <th>2647</th>\n",
       "      <td>Espumante orgânico</td>\n",
       "      <td>2021</td>\n",
       "      <td>2412</td>\n",
       "    </tr>\n",
       "    <tr>\n",
       "      <th>2648</th>\n",
       "      <td>Destilado alcoólico simples de bagaceira</td>\n",
       "      <td>2021</td>\n",
       "      <td>3000</td>\n",
       "    </tr>\n",
       "    <tr>\n",
       "      <th>2649</th>\n",
       "      <td>Vinho acidificado</td>\n",
       "      <td>2021</td>\n",
       "      <td>0</td>\n",
       "    </tr>\n",
       "    <tr>\n",
       "      <th>2650</th>\n",
       "      <td>Mosto parcialmente fermentado</td>\n",
       "      <td>2021</td>\n",
       "      <td>543510</td>\n",
       "    </tr>\n",
       "    <tr>\n",
       "      <th>2651</th>\n",
       "      <td>Outros derivados</td>\n",
       "      <td>2021</td>\n",
       "      <td>322</td>\n",
       "    </tr>\n",
       "  </tbody>\n",
       "</table>\n",
       "<p>816 rows × 3 columns</p>\n",
       "</div>"
      ],
      "text/plain": [
       "                                        PRODUTO   ANO  QTD_LITRO\n",
       "1836                              VINHO DE MESA  2006  185100887\n",
       "1837                                      Tinto  2006  149552555\n",
       "1838                                     Branco  2006   31738390\n",
       "1839                                     Rosado  2006    3809942\n",
       "1840              VINHO FINO DE MESA (VINÍFERA)  2006   32168977\n",
       "...                                         ...   ...        ...\n",
       "2647                         Espumante orgânico  2021       2412\n",
       "2648  Destilado alcoólico simples de bagaceira   2021       3000\n",
       "2649                         Vinho acidificado   2021          0\n",
       "2650             Mosto parcialmente fermentado   2021     543510\n",
       "2651                           Outros derivados  2021        322\n",
       "\n",
       "[816 rows x 3 columns]"
      ]
     },
     "execution_count": 20,
     "metadata": {},
     "output_type": "execute_result"
    }
   ],
   "source": [
    "df_produto = producao_vinhos()\n",
    "df_produto = df_produto.loc[df_produto[\"ANO\"] >= 2006]\n",
    "df_produto"
   ]
  },
  {
   "cell_type": "code",
   "execution_count": 24,
   "metadata": {},
   "outputs": [
    {
     "name": "stdout",
     "output_type": "stream",
     "text": [
      "       ANO        PRODUTO  QTD_LITRO\n",
      "1836  2006  VINHO DE MESA  185100887\n",
      "1887  2007  VINHO DE MESA  275287908\n",
      "1938  2008  VINHO DE MESA  287506811\n",
      "1989  2009  VINHO DE MESA  205418206\n",
      "2040  2010  VINHO DE MESA  195267980\n",
      "2091  2011  VINHO DE MESA  257840749\n",
      "2142  2012  VINHO DE MESA  212777037\n",
      "2193  2013  VINHO DE MESA  196904222\n",
      "2244  2014  VINHO DE MESA  196173123\n",
      "2295  2015  VINHO DE MESA  210308560\n",
      "2346  2016  VINHO DE MESA   86319015\n",
      "2397  2017  VINHO DE MESA  255015187\n",
      "2448  2018  VINHO DE MESA  218375636\n",
      "2499  2019  VINHO DE MESA  144629737\n",
      "2550  2020  VINHO DE MESA  124200414\n",
      "2601  2021  VINHO DE MESA  173899995\n"
     ]
    }
   ],
   "source": [
    "idx_max_qtd_litro = df_produto.groupby('ANO')['QTD_LITRO'].idxmax()\n",
    "\n",
    "df_produto_mais_produzido = df_produto.loc[idx_max_qtd_litro, ['ANO', 'PRODUTO', 'QTD_LITRO']]\n",
    "\n",
    "print(df_produto_mais_produzido)"
   ]
  },
  {
   "cell_type": "code",
   "execution_count": 26,
   "metadata": {},
   "outputs": [
    {
     "data": {
      "text/plain": [
       "<Axes: xlabel='ANO'>"
      ]
     },
     "execution_count": 26,
     "metadata": {},
     "output_type": "execute_result"
    },
    {
     "data": {
      "image/png": "[encoded data removed]",
      "text/plain": [
       "<Figure size 2300x600 with 1 Axes>"
      ]
     },
     "metadata": {},
     "output_type": "display_data"
    }
   ],
   "source": [
    "df_produto_mais_produzido.plot(x=\"ANO\", y=\"QTD_LITRO\", figsize=(23,6))"
   ]
  },
  {
   "cell_type": "markdown",
   "metadata": {},
   "source": [
    "# Criando site com gráficos e pitch para acionistas investir na vinicola"
   ]
  },
  {
   "cell_type": "code",
   "execution_count": 21,
   "metadata": {},
   "outputs": [
    {
     "data": {
      "text/html": [
       "\n",
       "        <iframe\n",
       "            width=\"100%\"\n",
       "            height=\"650\"\n",
       "            src=\"http://127.0.0.1:8050/\"\n",
       "            frameborder=\"0\"\n",
       "            allowfullscreen\n",
       "            \n",
       "        ></iframe>\n",
       "        "
      ],
      "text/plain": [
       "<IPython.lib.display.IFrame at 0x130710a50>"
      ]
     },
     "metadata": {},
     "output_type": "display_data"
    }
   ],
   "source": [
    "# Criar gráfico de barras com Plotly Express\n",
    "comercio = px.bar(df_comercio_grouped, x='ANO', y='QTD_PRODUTO_ANO')\n",
    "\n",
    "# Inicializar a aplicação Dash\n",
    "app = dash.Dash(__name__)\n",
    "\n",
    "colors = {\n",
    "    'background': '#000000',\n",
    "    'text': '#FFFFFF'\n",
    "}\n",
    "\n",
    "# Definir o layout da página\n",
    "app.layout = html.Div([\n",
    "    # Título da página\n",
    "    html.H1('Tech Challenge', style={'textAlign': 'center', 'color': '#16BA00'}),\n",
    "    html.H2('Vitivinicultura, Embrapa Uva e Vinho', style={'textAlign': 'center', 'color': '#DCEDFF'}),\n",
    "    # html.H3('Autores: Anna Karoliny e Victor Hugo', style={'color': '#DCEDFF'}),\n",
    "    # Elemento Markdown\n",
    "    dcc.Markdown('''\n",
    "\n",
    "    Uma empresa desde 1970, que entrega qualidade no produto para clientes no mundo todo, sendo presente em 65 países.\n",
    "    Invista agora no nosso negócio. Ainda tem dúvidas? Em 5 minutos com as informações abaixo e necessárias, vai te fazer pensar em fazer parte o quanto antes.\n",
    "\n",
    "    '''),\n",
    "\n",
    "    html.H2('Segurança nas Ações', style={'color': '#16BA00'}),\n",
    "    dcc.Markdown('''\n",
    "\n",
    "    **Nos ultimos 15 anos, mesmo em crises, sempre nos mantivemos e continuamos referência no mercado de vinhos e espumantes. \n",
    "    Se busca sofisticação, tempo de mercado, uma empresa presente nos principais países, e com entrega de qualidade, você está no lugar certo** \n",
    "    '''),\n",
    "\n",
    "    html.H2('Tomada de Decições com Análise de Dados', style={'color': '#16BA00'}),\n",
    "    dcc.Markdown('''\n",
    "\n",
    "    **Um dos maiores motivos para investir conosco é que temos a tomada de decisão a partir do dados que nós obtemos. \n",
    "    É com toda a garantia que nossa empresa afirma, o investimento conosco é a certeza que só temos crescimento e retorno financeiro.**\n",
    "\n",
    "    Saiba mais abaixo com nossas análises autorais.\n",
    "    '''),\n",
    "\n",
    "    html.H2('Comércio', style={'color': '#16BA00'}),\n",
    "    html.H3('Temos constância e somos líderes em comercializar nossos produtos', style={'color': '#DCEDFF'}),\n",
    "\n",
    "    dcc.Markdown('''\n",
    "    \n",
    "    Nos ultimos anos, continuamos comercializando todos os nossos produtos, entre eles vinhos, espumantes, sucos e entre outros, totalizando em 45 produtos.\n",
    "    Podemos concluir com nossas análises, que 99% de todos os produtos estão sendo comercializados, desde 2006.\n",
    "    '''),\n",
    "    \n",
    "    # Gráfico de barras\n",
    "    dcc.Graph(figure=comercio)\n",
    "\n",
    "])\n",
    "\n",
    "# Executar a aplicação\n",
    "if __name__ == '__main__':\n",
    "    app.run_server(debug=True)\n"
   ]
  },
  {
   "cell_type": "code",
   "execution_count": null,
   "metadata": {},
   "outputs": [],
   "source": []
  }
 ],
 "metadata": {
  "kernelspec": {
   "display_name": "Python 3.11.1 64-bit",
   "language": "python",
   "name": "python3"
  },
  "language_info": {
   "codemirror_mode": {
    "name": "ipython",
    "version": 3
   },
   "file_extension": ".py",
   "mimetype": "text/x-python",
   "name": "python",
   "nbconvert_exporter": "python",
   "pygments_lexer": "ipython3",
   "version": "3.11.1"
  },
  "orig_nbformat": 4,
  "vscode": {
   "interpreter": {
    "hash": "5c7b89af1651d0b8571dde13640ecdccf7d5a6204171d6ab33e7c296e100e08a"
   }
  }
 },
 "nbformat": 4,
 "nbformat_minor": 2
}
